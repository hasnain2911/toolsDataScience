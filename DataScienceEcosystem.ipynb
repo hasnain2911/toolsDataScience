{
 "cells": [
  {
   "cell_type": "markdown",
   "id": "6002c0c0-e87c-4a89-ad9b-902eab291480",
   "metadata": {},
   "source": [
    "# Data Science Tools and Ecosystem"
   ]
  },
  {
   "cell_type": "markdown",
   "id": "28bf10d1-55d9-455e-90bf-7e3892a2f909",
   "metadata": {},
   "source": [
    "Exercise 3: In this notebook, Data Science Tools and Ecosystem are summarized."
   ]
  },
  {
   "cell_type": "markdown",
   "id": "5b2fec9d-1334-4389-8e43-39d1fd972fa9",
   "metadata": {},
   "source": [
    "__Objectives__\n",
    "\n",
    "* List Popular Languages used in Data Science\n",
    "* List Popular Libraries used in Data Science\n",
    "* List tools used in Data Science\n",
    "* Show examples of arithmetics done in JupyterNotebooks\n",
    "* Show Header styles in Markdown"
   ]
  },
  {
   "cell_type": "markdown",
   "id": "a6529c10-d263-4644-9419-27619fe40d5c",
   "metadata": {},
   "source": [
    "#### Exercise 4: Some of the popular languages that Data Scientists use are:\n",
    "1. Python\n",
    "2. R\n",
    "3. SQL"
   ]
  },
  {
   "cell_type": "markdown",
   "id": "6ccbe504-cf6f-4f26-b6a4-165ce73c8ea0",
   "metadata": {},
   "source": [
    "#### Exercise 5: Some of the commonly used libraries used by Data Scientists include:\n",
    "1. matplotlib\n",
    "2. NumPy\n",
    "3. Pandas"
   ]
  },
  {
   "cell_type": "markdown",
   "id": "2c116823-e875-4892-b904-3ae58b5414aa",
   "metadata": {},
   "source": [
    "#### Exercise 6: Data Science Tools\n",
    "\n",
    "| Name | Description |\n",
    "| ---- | ----------- |\n",
    "| JupyterNotebook | Interactive coding environment |\n",
    "| VS Code | Versatile code editor |\n",
    "| RStudio | Built for R, offers tools for statistica comp |"
   ]
  },
  {
   "cell_type": "markdown",
   "id": "3eb0dbeb-6c4d-42c2-9e99-ef927d9295ce",
   "metadata": {},
   "source": [
    "### Exercise 7: Below are a few examples of evaluating arithmetic expressions in Python.\n",
    "\n"
   ]
  },
  {
   "cell_type": "code",
   "execution_count": 1,
   "id": "4e0eca72-ce22-4fb4-a732-d14c5637f35e",
   "metadata": {},
   "outputs": [
    {
     "data": {
      "text/plain": [
       "17"
      ]
     },
     "execution_count": 1,
     "metadata": {},
     "output_type": "execute_result"
    }
   ],
   "source": [
    "(3*4)+5"
   ]
  },
  {
   "cell_type": "code",
   "execution_count": 4,
   "id": "39a5ccbb-220d-4216-a6e0-32f5b94e3802",
   "metadata": {},
   "outputs": [
    {
     "data": {
      "text/plain": [
       "38"
      ]
     },
     "execution_count": 4,
     "metadata": {},
     "output_type": "execute_result"
    }
   ],
   "source": [
    "3+5*7"
   ]
  },
  {
   "cell_type": "code",
   "execution_count": 6,
   "id": "8ce81c14-59db-47ae-a8df-35160e54b2c9",
   "metadata": {},
   "outputs": [
    {
     "data": {
      "text/plain": [
       "3.3333333333333335"
      ]
     },
     "execution_count": 6,
     "metadata": {},
     "output_type": "execute_result"
    }
   ],
   "source": [
    "200/60"
   ]
  },
  {
   "cell_type": "markdown",
   "id": "44fc8f97-bc9b-4298-8d05-0d0a79c10b3b",
   "metadata": {},
   "source": [
    "## Author\n",
    "Hasnain Ahmad"
   ]
  },
  {
   "cell_type": "code",
   "execution_count": null,
   "id": "85c09062-e354-4f66-9ca5-19c5a00d3c28",
   "metadata": {},
   "outputs": [],
   "source": []
  }
 ],
 "metadata": {
  "kernelspec": {
   "display_name": "Python 3 (ipykernel)",
   "language": "python",
   "name": "python3"
  },
  "language_info": {
   "codemirror_mode": {
    "name": "ipython",
    "version": 3
   },
   "file_extension": ".py",
   "mimetype": "text/x-python",
   "name": "python",
   "nbconvert_exporter": "python",
   "pygments_lexer": "ipython3",
   "version": "3.12.8"
  }
 },
 "nbformat": 4,
 "nbformat_minor": 5
}
